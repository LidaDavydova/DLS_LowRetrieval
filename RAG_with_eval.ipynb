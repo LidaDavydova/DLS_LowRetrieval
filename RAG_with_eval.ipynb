{
 "cells": [
  {
   "cell_type": "code",
   "execution_count": 1,
   "id": "f3d3512d",
   "metadata": {},
   "outputs": [
    {
     "name": "stderr",
     "output_type": "stream",
     "text": [
      "/media/data/inno_courses/DLS/.venv/lib/python3.10/site-packages/tqdm/auto.py:21: TqdmWarning: IProgress not found. Please update jupyter and ipywidgets. See https://ipywidgets.readthedocs.io/en/stable/user_install.html\n",
      "  from .autonotebook import tqdm as notebook_tqdm\n"
     ]
    }
   ],
   "source": [
    "import faiss\n",
    "import numpy as np\n",
    "import pandas as pd\n",
    "from sentence_transformers import SentenceTransformer\n",
    "from pathlib import Path\n",
    "from collections import defaultdict"
   ]
  },
  {
   "cell_type": "code",
   "execution_count": null,
   "id": "a4937f83",
   "metadata": {},
   "outputs": [],
   "source": [
    "model = SentenceTransformer('cointegrated/rubert-tiny2') # load embedding model"
   ]
  },
  {
   "cell_type": "code",
   "execution_count": 3,
   "id": "45901bc2",
   "metadata": {},
   "outputs": [],
   "source": [
    "index = faiss.read_index(\"embeddings/embeddings.index\")  # read index from file"
   ]
  },
  {
   "cell_type": "code",
   "execution_count": null,
   "id": "401dd17a",
   "metadata": {},
   "outputs": [],
   "source": [
    "embeddings = np.load(\"embeddings/embeddings.npy\", allow_pickle=True) # load ready embeddings from our dataset"
   ]
  },
  {
   "cell_type": "code",
   "execution_count": 34,
   "id": "a343865d",
   "metadata": {},
   "outputs": [
    {
     "data": {
      "text/plain": [
       "(49727, 312)"
      ]
     },
     "execution_count": 34,
     "metadata": {},
     "output_type": "execute_result"
    }
   ],
   "source": [
    "embeddings.shape"
   ]
  },
  {
   "cell_type": "code",
   "execution_count": null,
   "id": "5c5aef63",
   "metadata": {},
   "outputs": [],
   "source": [
    "# dataset read\n",
    "chunk_files = sorted(Path('.').glob('dataset/preproc_data*.parquet'))\n",
    "dfs = [pd.read_parquet(f) for f in chunk_files]\n",
    "df = pd.concat(dfs, ignore_index=True)"
   ]
  },
  {
   "cell_type": "code",
   "execution_count": null,
   "id": "34379778",
   "metadata": {},
   "outputs": [
    {
     "name": "stdout",
     "output_type": "stream",
     "text": [
      "classifier_level2\n",
      "010.140    17889\n",
      "010.070     5480\n",
      "210.010     2896\n",
      "210.020     2102\n",
      "020.010     1997\n",
      "           ...  \n",
      "140.030        1\n",
      "100.030        1\n",
      "090.020        1\n",
      "070.020        1\n",
      "050.050        1\n",
      "Name: count, Length: 158, dtype: int64\n"
     ]
    }
   ],
   "source": [
    "# create class (only 2 numbers in classifierByIPS)\n",
    "df[['classifier_code', 'classifier_name']] = df['classifierByIPS'].str.split('$', n=1, expand=True)\n",
    "df['classifier_level2'] = df['classifier_code'].str.extract(r'^(\\d{3}\\.\\d{3})')\n",
    "print(df['classifier_level2'].value_counts())"
   ]
  },
  {
   "cell_type": "markdown",
   "id": "dc8e765f",
   "metadata": {},
   "source": [
    "# Ranking metrics functions"
   ]
  },
  {
   "cell_type": "code",
   "execution_count": 38,
   "id": "676b32d8",
   "metadata": {},
   "outputs": [],
   "source": [
    "def precision_at_k(relevant, k):\n",
    "    return np.sum(relevant[:k]) / k\n",
    "\n",
    "def recall_at_k(relevant, total_relevant, k):\n",
    "    if total_relevant == 0:\n",
    "        return 0.0\n",
    "    return np.sum(relevant[:k]) / total_relevant\n",
    "\n",
    "\n",
    "def hits_at_k(relevant, k):\n",
    "    return 1.0 if np.sum(relevant[:k]) > 0 else 0.0\n",
    "\n",
    "def mrr(relevant):\n",
    "    for idx, rel in enumerate(relevant, 1):\n",
    "        if rel:\n",
    "            return 1.0 / idx\n",
    "    return 0.0\n",
    "\n",
    "def dcg(relevant, k):\n",
    "    relevant = np.asarray(relevant)[:k] \n",
    "    if len(relevant) == 0:\n",
    "        return 0.0\n",
    "    discounts = np.log2(np.arange(2, len(relevant) + 1))\n",
    "    return relevant[0] + np.sum(relevant[1:] / discounts[:len(relevant)-1])\n",
    "\n",
    "def ndcg_at_k(relevant, k):\n",
    "    relevant = np.asarray(relevant)[:k] \n",
    "    ideal_relevant = np.sort(relevant)[::-1] \n",
    "    idcg = dcg(ideal_relevant, k)\n",
    "    if idcg == 0:\n",
    "        return 0.0\n",
    "    return dcg(relevant, k) / idcg\n",
    "\n",
    "def average_precision_at_k(relevant, k):\n",
    "    hits = 0\n",
    "    sum_precisions = 0.0\n",
    "    for i in range(k):\n",
    "        if relevant[i]:\n",
    "            hits += 1\n",
    "            sum_precisions += hits / (i + 1)\n",
    "    if hits == 0:\n",
    "        return 0.0\n",
    "    return sum_precisions / hits"
   ]
  },
  {
   "cell_type": "code",
   "execution_count": 39,
   "id": "3a639af9",
   "metadata": {},
   "outputs": [],
   "source": [
    "def evaluate_index(index, embeddings, df, k=10, n_eval=100):\n",
    "    precisions = []\n",
    "    recalls = []\n",
    "    hits = []\n",
    "    mrrs = []\n",
    "    ndcgs = []\n",
    "    aps = []\n",
    "\n",
    "    class_counts = df['classifier_level2'].value_counts().to_dict()\n",
    "\n",
    "    for _ in range(n_eval):\n",
    "        # choose random query from embedding\n",
    "        i = np.random.randint(0, len(embeddings))\n",
    "        query = embeddings[i].reshape(1, -1)\n",
    "        query_class = df.iloc[i]['classifier_level2']\n",
    "\n",
    "        if not isinstance(query_class, str) or query_class == \"UNKNOWN\":\n",
    "            continue\n",
    "\n",
    "        _, topk = index.search(query, k+1)\n",
    "        topk = topk[0][1:]  # except the same one\n",
    "\n",
    "        topk_classes = df.iloc[topk]['classifier_level2'].values\n",
    "        relevant = (topk_classes == query_class).astype(int)\n",
    "\n",
    "        precisions.append(precision_at_k(relevant, k))\n",
    "        total_relevant = class_counts.get(query_class, 0) - 1\n",
    "        total_relevant = max(total_relevant, 0)\n",
    "        recalls.append(recall_at_k(relevant, total_relevant, k))\n",
    "        hits.append(hits_at_k(relevant, k))\n",
    "        mrrs.append(mrr(relevant))\n",
    "        ndcgs.append(ndcg_at_k(relevant, k))\n",
    "        aps.append(average_precision_at_k(relevant, k))\n",
    "\n",
    "    print(\"Evaluation results:\")\n",
    "    print(f\"Precision@{k}: {np.mean(precisions):.3f}\")\n",
    "    print(f\"Recall@{k}: {np.mean(recalls):.3f}\")\n",
    "    print(f\"Hits@{k}:     {np.mean(hits):.3f}\")\n",
    "    print(f\"MRR:          {np.mean(mrrs):.3f}\")\n",
    "    print(f\"NDCG@{k}:     {np.mean(ndcgs):.3f}\")\n",
    "    print(f\"MAP@{k}:      {np.mean(aps):.3f}\")"
   ]
  },
  {
   "cell_type": "code",
   "execution_count": 40,
   "id": "e014181f",
   "metadata": {},
   "outputs": [
    {
     "name": "stdout",
     "output_type": "stream",
     "text": [
      "Evaluation results:\n",
      "Precision@10: 0.643\n",
      "Recall@10: 0.002\n",
      "Hits@10:     0.947\n",
      "MRR:          0.769\n",
      "NDCG@10:     0.807\n",
      "MAP@10:      0.745\n"
     ]
    }
   ],
   "source": [
    "evaluate_index(index, embeddings, df, 10, 100)"
   ]
  },
  {
   "cell_type": "markdown",
   "id": "5665e013",
   "metadata": {},
   "source": [
    "### Test on query and class (50 pairs), but some classes are not in dataset range"
   ]
  },
  {
   "cell_type": "code",
   "execution_count": 6,
   "id": "0c7c57c8",
   "metadata": {},
   "outputs": [],
   "source": [
    "test_query = [\n",
    "    # Уголовное право и процесс\n",
    "    \"Как подать жалобу на незаконные действия следователя?\",\n",
    "    \"Что считается смягчающими обстоятельствами в уголовном деле?\",\n",
    "    \"Как обжаловать приговор суда по уголовному делу?\",\n",
    "    \"Какие права у подозреваемого при задержании?\",\n",
    "    # Жилищное право\n",
    "    \"Как выселить недобросовестного квартиросъемщика?\",\n",
    "    \"Как оформить перепланировку квартиры законно?\",\n",
    "    \"Какие льготы по квартплате для пенсионеров?\",\n",
    "    \"Как разделить лицевой счет в коммунальной квартире?\",\n",
    "    # Трудовое право\n",
    "    \"Как оформить увольнение по сокращению штатов?\",\n",
    "    \"Какая ответственность за задержку зарплаты?\",\n",
    "    \"Как доказать факт трудовых отношений?\",\n",
    "    \"Какие гарантии у беременных сотрудниц?\",\n",
    "    # Налоги и бизнес\n",
    "    \"Как получить налоговый вычет за лечение?\",\n",
    "    \"Какие налоги платит ИП на УСН?\",\n",
    "    \"Как оспорить решение налоговой проверки?\",\n",
    "    \"Какая ответственность за незаконную предпринимательскую деятельность?\",\n",
    "    # Семейное право\n",
    "    \"Как лишить родительских прав недобросовестного родителя?\",\n",
    "    \"Как взыскать алименты в твердой сумме?\",\n",
    "    \"Как оформить брачный договор?\",\n",
    "    \"Какие права у отца после развода?\",\n",
    "    # Административные вопросы\n",
    "    \"Как обжаловать штраф ГИБДД?\",\n",
    "    \"Какие документы нужны для оформления загранпаспорта?\",\n",
    "    \"Как оформить временную регистрацию?\",\n",
    "    \"Как получить разрешение на строительство дома?\",\n",
    "    # Финансы и кредиты\n",
    "    \"Как реструктуризировать кредит в банке?\",\n",
    "    \"Какие права у заемщика при навязывании страховки?\",\n",
    "    \"Как вернуть страховку по кредиту?\",\n",
    "    \"Что делать при незаконном списании средств со счета?\",\n",
    "    # Интеллектуальная собственность\n",
    "    \"Как зарегистрировать товарный знак?\",\n",
    "    \"Какая ответственность за пиратство в интернете?\",\n",
    "    \"Как оформить авторские права на книгу?\",\n",
    "    \"Что делать при нарушении патентных прав?\",\n",
    "    # Здравоохранение\n",
    "    \"Как получить квоту на высокотехнологичную операцию?\",\n",
    "    \"Какие права у пациента в частной клинике?\",\n",
    "    \"Как оспорить врачебную ошибку?\",\n",
    "    \"Как оформить инвалидность?\",\n",
    "    # Земельное право\n",
    "    \"Как оформить в собственность заброшенный земельный участок?\",\n",
    "    \"Какие налоги на землю под ИЖС?\",\n",
    "    \"Как разделить земельный участок между наследниками?\",\n",
    "    \"Как оспорить кадастровую стоимость участка?\",\n",
    "    # общее\n",
    "    \"Как правильно оформить возбуждение уголовного дела по факту мошенничества?\",\n",
    "    \"Какие стадии проходит законопроект перед принятием в Госдуме?\",\n",
    "    \"Можно ли изменить или отменить действующий нормативный акт, если он устарел?\",\n",
    "    \"Какие права есть у собственника жилого помещения?\",\n",
    "    \"Как организовать управление многоквартирным домом?\",\n",
    "    \"Какие требования к розничной торговле в 2024 году?\"\n",
    "    \"Как оформить кредит для сельскохозяйственного предприятия?\",\n",
    "    \"Какие документы нужны для призыва на военную службу?\",\n",
    "    \"Как уволиться с военной службы по собственному желанию?\",\n",
    "    \"Какие межведомственные комиссии могут проверить бизнес?\"\n",
    "]\n",
    "\n",
    "test_class = [\n",
    "    # Уголовное право и процесс\n",
    "    '180.060', '180.070', '180.080', '180.090',\n",
    "    # Жилищное право\n",
    "    '050.030', '050.040', '050.050', '050.060',\n",
    "    # Трудовое право\n",
    "    '070.010', '070.020', '070.030', '070.040',\n",
    "    # Налоги и бизнес\n",
    "    '080.010', '080.020', '080.030', '080.040',\n",
    "    # Семейное право\n",
    "    '040.010', '040.020', '040.030', '040.040',\n",
    "    # Административные вопросы\n",
    "    '020.020', '020.030', '020.040', '020.050',\n",
    "    # Финансы и кредиты\n",
    "    '080.110', '080.120', '080.130', '080.140',\n",
    "    # Интеллектуальная собственность\n",
    "    '130.010', '130.020', '130.030', '130.040',\n",
    "    # Здравоохранение\n",
    "    '140.010', '140.020', '140.030', '140.040',\n",
    "    # Земельное право\n",
    "    '060.010', '060.020', '060.030', '060.040',\n",
    "    # общее\n",
    "    '180.060', '010.140', '010.140', '030.090', \n",
    "    '050.020', '090.100', '080.110', '150.090', \n",
    "    '150.100', '020.010'\n",
    "]"
   ]
  },
  {
   "cell_type": "code",
   "execution_count": 28,
   "id": "582e23b8",
   "metadata": {},
   "outputs": [],
   "source": [
    "def evaluate_index_with_queries(model, index, test_query, test_class, df, k=10):\n",
    "    # create embeddings from queries\n",
    "    query_vecs = model.encode(test_query)\n",
    "    query_vecs = query_vecs / np.linalg.norm(query_vecs, axis=1, keepdims=True)\n",
    "    faiss.normalize_L2(query_vecs)\n",
    "    \n",
    "    # count classifierByIPS values\n",
    "    class_counts = df['classifier_level2'].value_counts().to_dict()\n",
    "    \n",
    "    metrics = {\n",
    "        'precision': [],\n",
    "        'recall': [],\n",
    "        'hits': [],\n",
    "        'mrr': [],\n",
    "        'ndcg': [],\n",
    "        'map': []\n",
    "    }\n",
    "    \n",
    "    for i, (query_vec, true_class) in enumerate(zip(query_vecs, test_class)):\n",
    "        _, topk_indices = index.search(query_vec.reshape(1, -1), k)\n",
    "        topk_indices = topk_indices[0]\n",
    "        \n",
    "        # get classes of top lows\n",
    "        topk_classes = df.iloc[topk_indices]['classifier_level2'].values\n",
    "        \n",
    "        relevant = (topk_classes == true_class).astype(int)\n",
    "        \n",
    "        # count metrics\n",
    "        metrics['precision'].append(precision_at_k(relevant, k))\n",
    "        \n",
    "        total_relevant = class_counts.get(true_class, 0)\n",
    "        metrics['recall'].append(recall_at_k(relevant, total_relevant, k))\n",
    "        metrics['hits'].append(hits_at_k(relevant, k))\n",
    "        metrics['mrr'].append(mrr(relevant))\n",
    "        metrics['ndcg'].append(ndcg_at_k(relevant, k))\n",
    "        metrics['map'].append(average_precision_at_k(relevant, k))\n",
    "    \n",
    "    print(\"Evaluation results:\")\n",
    "    print(f\"Precision@{k}: {np.mean(metrics['precision']):.3f}\")\n",
    "    print(f\"Recall@{k}: {np.mean(metrics['recall']):.3f}\")\n",
    "    print(f\"Hits@{k}:     {np.mean(metrics['hits']):.3f}\")\n",
    "    print(f\"MRR:          {np.mean(metrics['mrr']):.3f}\")\n",
    "    print(f\"NDCG@{k}:     {np.mean(metrics['ndcg']):.3f}\")\n",
    "    print(f\"MAP@{k}:      {np.mean(metrics['map']):.3f}\")\n",
    "    \n",
    "    return metrics"
   ]
  },
  {
   "cell_type": "code",
   "execution_count": 29,
   "id": "e0d08d88",
   "metadata": {},
   "outputs": [
    {
     "name": "stdout",
     "output_type": "stream",
     "text": [
      "Evaluation results:\n",
      "Precision@10: 0.031\n",
      "Recall@10: 0.004\n",
      "Hits@10:     0.061\n",
      "MRR:          0.044\n",
      "NDCG@10:     0.077\n",
      "MAP@10:      0.033\n"
     ]
    }
   ],
   "source": [
    "results = evaluate_index_with_queries(\n",
    "    model=model,\n",
    "    index=index,\n",
    "    test_query=test_query,\n",
    "    test_class=test_class,\n",
    "    df=df,\n",
    "    k=10\n",
    ")"
   ]
  },
  {
   "cell_type": "markdown",
   "id": "bc9bb14a",
   "metadata": {},
   "source": [
    "### Test on query and class (50 pairs)"
   ]
  },
  {
   "cell_type": "code",
   "execution_count": 41,
   "id": "589ea872",
   "metadata": {},
   "outputs": [],
   "source": [
    "test_query = [\n",
    "    # Законодательные процессы (010.xxx)\n",
    "    \"Как подать законопроект в Государственную Думу?\",  # 010.140\n",
    "    \"Каков порядок внесения поправок в Конституцию?\",  # 010.070\n",
    "    \"Какие документы нужны для регистрации политической партии?\",  # 010.100\n",
    "    \"Как оформить запрос о предоставлении законодательной инициативы?\",  # 010.090\n",
    "    \"Какие существуют виды нормативных правовых актов?\",  # 010.060\n",
    "    \n",
    "    # Государственное управление (020.xxx)\n",
    "    \"Как получить лицензию на образовательную деятельность?\",  # 020.010\n",
    "    \"Каков порядок проведения конкурса на госслужбу?\",  # 020.030\n",
    "    \"Как оформить межведомственный запрос?\",  # 020.040\n",
    "    \"Какие полномочия у муниципальных органов власти?\",  # 020.050\n",
    "    \"Как обжаловать решение органа исполнительной власти?\",  # 020.020\n",
    "    \n",
    "    # Гражданское право (030.xxx)\n",
    "    \"Как оформить договор купли-продажи недвижимости?\",  # 030.030\n",
    "    \"Какие права у потребителя при возврате товара?\",  # 030.120\n",
    "    \"Как составить брачный договор?\",  # 030.050\n",
    "    \"Каков порядок наследования по закону?\",  # 030.040\n",
    "    \"Как оформить доверенность на представление интересов?\",  # 030.020\n",
    "    \n",
    "    # Финансы и налоги (080.xxx)\n",
    "    \"Как получить налоговый вычет за лечение?\",  # 080.050\n",
    "    \"Какие налоги платит ИП на упрощенке?\",  # 080.080\n",
    "    \"Как оформить кредит для малого бизнеса?\",  # 080.110\n",
    "    \"Какая ответственность за неуплату налогов?\",  # 080.060\n",
    "    \"Как вернуть излишне уплаченный налог?\",  # 080.100\n",
    "    \n",
    "    # Трудовое право (070.xxx)\n",
    "    \"Как правильно оформить увольнение по сокращению?\",  # 070.030\n",
    "    \"Какие льготы положены работающим пенсионерам?\",  # 070.070\n",
    "    \"Как составить трудовой договор с удаленным работником?\",  # 070.060\n",
    "    \"Какая минимальная зарплата в 2024 году?\",  # 070.010\n",
    "    \"Как оформить отпуск по уходу за ребенком?\",  # 070.050\n",
    "    \n",
    "    # Образование (060.xxx)\n",
    "    \"Какие документы нужны для поступления в вуз?\",  # 060.020\n",
    "    \"Как получить лицензию на образовательную деятельность?\",  # 060.010\n",
    "    \"Какие существуют виды аттестации педагогов?\",  # 060.020\n",
    "    \"Как оформить академический отпуск?\",  # 060.010\n",
    "    \"Какие льготы есть для студентов?\",  # 060.020\n",
    "    \n",
    "    # Здравоохранение (140.xxx)\n",
    "    \"Как получить квоту на высокотехнологичную операцию?\",  # 140.010\n",
    "    \"Какие права у пациента в частной клинике?\",  # 140.020\n",
    "    \"Как оформить инвалидность?\",  # 140.010\n",
    "    \"Какие льготы на лекарства у пенсионеров?\",  # 140.030\n",
    "    \"Как обжаловать врачебную ошибку?\",  # 140.020\n",
    "    \n",
    "    # Военная служба (150.xxx)\n",
    "    \"Какие документы нужны для призыва в армию?\",  # 150.090\n",
    "    \"Как получить отсрочку от военной службы?\",  # 150.020\n",
    "    \"Какие льготы у военных пенсионеров?\",  # 150.060\n",
    "    \"Как оформить военную ипотеку?\",  # 150.010\n",
    "    \"Какие выплаты при увольнении с военной службы?\",  # 150.100\n",
    "    \n",
    "    # Интеллектуальная собственность (130.xxx)\n",
    "    \"Как зарегистрировать товарный знак?\",  # 130.010\n",
    "    \"Какая ответственность за пиратство в интернете?\",  # 130.020\n",
    "    \"Как оформить патент на изобретение?\",  # 130.030\n",
    "    \"Что делать при нарушении авторских прав?\",  # 130.040\n",
    "    \"Как защитить коммерческую тайну?\",  # 130.020\n",
    "    \n",
    "    # Семейное право (040.xxx)\n",
    "    \"Как лишить родительских прав?\",  # 040.080\n",
    "    \"Какие алименты положены на 2 детей?\",  # 040.060\n",
    "    \"Как усыновить ребенка из детдома?\",  # 040.010\n",
    "    \"Как разделить имущество при разводе?\",  # 040.040\n",
    "    \"Какие права у отца после развода?\"  # 040.040\n",
    "]\n",
    "\n",
    "test_class = [\n",
    "    '010.140', '010.070', '010.100', '010.090', '010.060',\n",
    "    '020.010', '020.030', '020.040', '020.050', '020.020',\n",
    "    '030.030', '030.120', '030.050', '030.040', '030.020',\n",
    "    '080.050', '080.080', '080.110', '080.060', '080.100',\n",
    "    '070.030', '070.070', '070.060', '070.010', '070.050',\n",
    "    '060.020', '060.010', '060.020', '060.010', '060.020',\n",
    "    '140.010', '140.020', '140.010', '140.030', '140.020',\n",
    "    '150.090', '150.020', '150.060', '150.010', '150.100',\n",
    "    '130.010', '130.020', '130.030', '130.040', '130.020',\n",
    "    '040.080', '040.060', '040.010', '040.040', '040.040'\n",
    "]"
   ]
  },
  {
   "cell_type": "code",
   "execution_count": 42,
   "id": "6cbd668f",
   "metadata": {},
   "outputs": [
    {
     "name": "stdout",
     "output_type": "stream",
     "text": [
      "Evaluation results:\n",
      "Precision@10: 0.028\n",
      "Recall@10: 0.005\n",
      "Hits@10:     0.080\n",
      "MRR:          0.035\n",
      "NDCG@10:     0.045\n",
      "MAP@10:      0.032\n"
     ]
    }
   ],
   "source": [
    "results = evaluate_index_with_queries(\n",
    "    model=model,\n",
    "    index=index,\n",
    "    test_query=test_query,\n",
    "    test_class=test_class,\n",
    "    df=df,\n",
    "    k=10\n",
    ")"
   ]
  },
  {
   "cell_type": "markdown",
   "id": "9b48aff2",
   "metadata": {},
   "source": [
    "### Avg time to search top 10"
   ]
  },
  {
   "cell_type": "code",
   "execution_count": 43,
   "id": "46d3faca",
   "metadata": {},
   "outputs": [
    {
     "data": {
      "text/plain": [
       "7.291843891143799"
      ]
     },
     "execution_count": 43,
     "metadata": {},
     "output_type": "execute_result"
    }
   ],
   "source": [
    "import time\n",
    "\n",
    "def measure_faiss_speed(index, embeddings, n_queries=100):\n",
    "    total_time = 0.0\n",
    "    for _ in range(n_queries):\n",
    "        i = np.random.randint(0, len(embeddings))\n",
    "        query = embeddings[i].reshape(1, -1)\n",
    "        start = time.time()\n",
    "        _ = index.search(query, 10)\n",
    "        total_time += time.time() - start\n",
    "    avg_time_ms = (total_time / n_queries) * 1000\n",
    "    return avg_time_ms\n",
    "measure_faiss_speed(index, embeddings)"
   ]
  },
  {
   "cell_type": "code",
   "execution_count": null,
   "id": "3cb19a4c",
   "metadata": {},
   "outputs": [],
   "source": [
    "# Real query test"
   ]
  },
  {
   "cell_type": "code",
   "execution_count": 21,
   "id": "8c7b89c2",
   "metadata": {},
   "outputs": [
    {
     "data": {
      "text/plain": [
       "Index(['pravogovruNd', 'issuedByIPS', 'docdateIPS', 'docNumberIPS',\n",
       "       'doc_typeIPS', 'headingIPS', 'doc_author_normal_formIPS', 'signedIPS',\n",
       "       'statusIPS', 'actual_datetimeIPS', 'actual_datetime_humanIPS',\n",
       "       'is_widely_used', 'textIPS', 'classifierByIPS', 'keywordsByIPS',\n",
       "       'text_clean', 'tokens', 'lemmatized_text', 'classifier_code',\n",
       "       'classifier_name', 'classifier_level2'],\n",
       "      dtype='object')"
      ]
     },
     "execution_count": 21,
     "metadata": {},
     "output_type": "execute_result"
    }
   ],
   "source": [
    "df.columns"
   ]
  },
  {
   "cell_type": "code",
   "execution_count": null,
   "id": "b42595e9",
   "metadata": {},
   "outputs": [
    {
     "name": "stdout",
     "output_type": "stream",
     "text": [
      "Топ-5 результатов с учетом классов:\n",
      "1. Схожесть: 0.474 | Класс: 010.070\n",
      "Текст:  \n",
      " ПРАВИТЕЛЬСТВО РСФСР \n",
      " РАСПОРЯЖЕНИЕ \n",
      " от 28 декабря 1991 г. N 239-р\n",
      " г. Москва \n",
      "1. Министерству экономики и финансов РСФСР отпустить в 1992-1993 годах Внешторгбанку РСФСР для продажи на экспорт 1,3 тонны золота в счет сверхплановой добычи производственным объединением \"Лензолото\" в 1991-1992 годах.\n",
      "2. Внешторгбанку РСФСР перечислить средства, вырученные от реализации 1,3 тонны золота, в распоряжение администрации Иркутской области для закупки продовольствия, товаров первой необходимости и технологий по переработке сельскохозяйственной продукции.\n",
      "3. Администрации Иркутской области возместить Внешторгбанку РСФСР стоимость проданного золота в советских рублях по расчетным ценам, действующим при сдаче золота в Государственный фонд драгоценных металлов и драгоценных камней РСФСР. \n",
      "Первый заместитель Председателя\n",
      "Правительства Российской Федерации Г. Бурбулис \n",
      " \n",
      "2. Схожесть: 0.472 | Класс: 030.050\n",
      "Текст:  \n",
      " ПРАВИТЕЛЬСТВО РСФСР \n",
      " РАСПОРЯЖЕНИЕ \n",
      " от 18 декабря 1991 г. N 160-р\n",
      " г. Москва \n",
      "В целях удовлетворения потребностей народного хозяйства РСФСР и государств Содружества Независимых Государств в соответствии с Соглашением от 8 декабря 1991 г. в денежных билетах, разменной монете и ценных бумагах:\n",
      "1. Разрешить Гознаку Министерства экономики и финансов РСФСР использовать в 1992 году предоставляемый Германией кредит в размере 26,7 млн. марок ФРГ на закупку чеканочных прессов и оборудования для модернизации бумагоделательных машин.\n",
      "Выделить в 1992 году из Республиканского валютного резерва РСФСР Гознаку Министерства экономики и финансов РСФСР 4 млн. марок ФРГ для обеспечения авансового платежа по привлекаемому кредиту.\n",
      "2. В дополнение к распоряжению Совета Министров РСФСР от 8 июля 1991 г. N 730-р предусмотреть для Гознака Министерства экономики и финансов РСФСР закупку в 1994 году в счет инвестиционной части итальянского кредита оборудования по производству банкнот и других ценных бумаг на общую сумму 18,8 млн. инвалютных рублей по официальному курсу.\n",
      "3. Министерству экономики и финансов РСФСР предусматривать начиная с 1992 года выделение Гознаку из Республиканского валютного резерва РСФСР валютных средств на погашение основного долга и оплату процентов по кредитам, а также средств в советских рублях в размерах, необходимых для обеспечения расчетов по кредитам, указанным в пунктах 1, 2 настоящего распоряжения. \n",
      "Заместитель Председателя\n",
      "Правительства РСФСР Е. Гайдар \n",
      " \n",
      "3. Схожесть: 0.467 | Класс: 030.030\n",
      "Текст:  ПРАВИТЕЛЬСТВО РОССИЙСКОЙ ФЕДЕРАЦИИ \n",
      " РАСПОРЯЖЕНИЕ \n",
      " от 10 июня 1997 г. N 814-р \n",
      " г. Москва \n",
      " 1. Признать целесообразным привлечение инвестиционных кредитов банков США в размере до 76 млн. долларов США для финансирования строительства закрытым акционерным обществом \"Бонум-1\" (далее именуется - ЗАО \"Бонум-1\") спутника непосредственного телевизионного вещания Хьюджес Спейс энд Коммьюникэйшнз Интернэшнл, Инк. \n",
      " Минфину России и Внешэкономбанку подписать с заинтересованными организациями США документы, необходимые для привлечения указанных кредитов, имея в виду, что погашение основного долга, уплата процентов и комиссий по кредитам осуществляются за счет средств ЗАО \"Бонум-1\" на условиях, определенных соответствующими кредитными соглашениями. \n",
      " 2. Минфину России и Внешэкономбанку заключить с ЗАО \"Бонум-1\" и коммерческим банком \"Мост-банк\" соглашения о гарантиях полного возврата кредитов, указанных в пункте 1 настоящего распоряжения, и средств, связанных с их привлечением и использованием. \n",
      " 3. МВЭСу России обеспечить оперативный контроль за ценами, коммерческими и валютно-финансовыми условиями контрактов, заключаемых в счет кредитов, привлекаемых в соответствии с настоящим распоряжением. \n",
      " 4. Минэкономики России и Минфину России осуществлять ежеквартально контроль эффективности использования ЗАО \"Бонум-1\" кредитов, указанных в пункте 1 настоящего распоряжения. \n",
      " Председатель Правительства \n",
      " Российской Федерации В.Черномырдин \n",
      " \n",
      "4. Схожесть: 0.466 | Класс: 080.050\n",
      "Текст:  \n",
      " ПРАВИТЕЛЬСТВО РОССИЙСКОЙ ФЕДЕРАЦИИ \n",
      " РАСПОРЯЖЕНИЕ \n",
      " от 7 апреля 1995 г. N 463-р\n",
      " г. Москва \n",
      "1. В целях сохранения материально-технической базы МГУ им. М. В. Ломоносова, отнесенного к особо ценным объектам культурного наследия народов Российской Федерации, признать целесообразным привлечение кредита Великобритании на сумму до 9 млн. долларов США для финансирования закупок оборудования и услуг для замены лифтов в зданиях МГУ им. М. В. Ломоносова.\n",
      "2. Минфину России и Внешэкономбанку подписать с Британской Стороной документы, необходимые для привлечения указанного кредита.\n",
      "3. Установить, что авансовые платежи на сумму до 1,6 млн.долларов США, погашение основного долга, оплата процентов и комиссий по привлекаемому кредиту осуществляются за счет средств федерального бюджета.\n",
      "4. МВЭСу России обеспечить оперативный контроль за заключаемыми контрактами в счет указанного в пункте 1 настоящего распоряжения кредита при предъявлении их к финансированию во Внешэкономбанк. \n",
      "Председатель Правительства\n",
      "Российской Федерации В. Черномырдин \n",
      " \n",
      "5. Схожесть: 0.446 | Класс: 020.010\n",
      "Текст:  \n",
      " ПРАВИТЕЛЬСТВО РОССИЙСКОЙ ФЕДЕРАЦИИ \n",
      " РАСПОРЯЖЕНИЕ \n",
      " от 28 августа 1997 г. N 1232-р\n",
      " г. Москва \n",
      "1. Признать целесообразным привлечение инвестиционного кредита Франции в размере до 54 млн. французских франков (10 млн. долларов США) для финансирования реконструкции инженерных систем зданий Российской государственной библиотеки.\n",
      "Минфину России и Внешэкономбанку подписать с Французской Стороной документы, необходимые для привлечения указанного кредита.\n",
      "2. Установить, что авансовые платежи, погашение основного долга, оплата процентов и комиссий по привлекаемому кредиту, указанному в пункте 1 настоящего распоряжения, осуществляются за счет средств федерального бюджета.\n",
      "3. МВЭСу России обеспечить оперативный контроль за коммерческими, валютно-финансовыми условиями и ценами по контрактам, заключаемым в счет кредита, указанного в пункте 1 настоящего распоряжения.\n",
      "4. Российской государственной библиотеке представлять в Минэкономики России, Минфин России и МВЭС России квартальную и годовую информацию об эффективности использования кредита, указанного в пункте 1 настоящего распоряжения. \n",
      "Председатель Правительства\n",
      "Российской Федерации В.Черномырдин \n",
      " \n"
     ]
    }
   ],
   "source": [
    "query = \"украли кошелек\"\n",
    "query_vec = model.encode([query]) # encode\n",
    "query_vec = query_vec / np.linalg.norm(query_vec) # normalize\n",
    "\n",
    "faiss.normalize_L2(query_vec)\n",
    "\n",
    "k = 50\n",
    "# find the closest\n",
    "similarities, indices = index.search(query_vec, k)\n",
    "\n",
    "# filter resilt from top 50 to top 5\n",
    "results = []\n",
    "for idx, sim in zip(indices[0], similarities[0]):\n",
    "    if idx == -1:  # if idx not exist, skip\n",
    "        continue\n",
    "    \n",
    "    row = df.iloc[idx]\n",
    "    classifier = str(row['classifier_level2']).strip() if pd.notna(row['classifier_level2']) else \"UNKNOWN\"\n",
    "    \n",
    "    # add if not UNKNOWN\n",
    "    if classifier != \"UNKNOWN\":\n",
    "        results.append({\n",
    "            'index': idx,\n",
    "            'similarity': sim,\n",
    "            'classifier': row['classifier_code'],\n",
    "            'classifier_level2': classifier,\n",
    "            'text': row['textIPS'],\n",
    "            'heading': row['headingIPS']\n",
    "        })\n",
    "\n",
    "# group by classifier_level2 (2 numbers from classifier_code)\n",
    "grouped = defaultdict(list)\n",
    "for res in results:\n",
    "    grouped[res['classifier_level2']].append(res)\n",
    "\n",
    "top_results = []\n",
    "# take from each grouped 1 with max similarity\n",
    "if len(grouped) >= 5:\n",
    "    for cls in sorted(grouped.keys(), key=lambda x: max(y['similarity'] for y in grouped[x]), reverse=True)[:5]:\n",
    "        best_in_cls = max(grouped[cls], key=lambda x: x['similarity'])\n",
    "        top_results.append(best_in_cls)\n",
    "\n",
    "# take from each grouped 2 with max similarity\n",
    "else:\n",
    "    candidates = []\n",
    "    for cls, items in grouped.items():\n",
    "        items_sorted = sorted(items, key=lambda x: -x['similarity'])\n",
    "        candidates.extend(items_sorted[:2])\n",
    "    # return only top 5\n",
    "    top_results = sorted(candidates, key=lambda x: -x['similarity'])[:5]\n",
    "\n",
    "print(\"Топ-5 результатов с учетом классов:\")\n",
    "for i, res in enumerate(top_results, 1):\n",
    "    print(f\"{i}. Схожесть: {res['similarity']:.3f} | Класс: {res['classifier_level2']}\")\n",
    "    print(f\"Текст: {res['text']}\")"
   ]
  },
  {
   "cell_type": "code",
   "execution_count": null,
   "id": "a359965e",
   "metadata": {},
   "outputs": [],
   "source": []
  },
  {
   "cell_type": "code",
   "execution_count": null,
   "id": "76e69308",
   "metadata": {},
   "outputs": [],
   "source": []
  }
 ],
 "metadata": {
  "kernelspec": {
   "display_name": ".venv",
   "language": "python",
   "name": "python3"
  },
  "language_info": {
   "codemirror_mode": {
    "name": "ipython",
    "version": 3
   },
   "file_extension": ".py",
   "mimetype": "text/x-python",
   "name": "python",
   "nbconvert_exporter": "python",
   "pygments_lexer": "ipython3",
   "version": "3.10.12"
  }
 },
 "nbformat": 4,
 "nbformat_minor": 5
}
