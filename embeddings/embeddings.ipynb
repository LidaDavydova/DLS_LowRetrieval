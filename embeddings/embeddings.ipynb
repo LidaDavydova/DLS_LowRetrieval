{
 "cells": [
  {
   "cell_type": "code",
   "execution_count": 1,
   "id": "636a01e7",
   "metadata": {},
   "outputs": [
    {
     "name": "stderr",
     "output_type": "stream",
     "text": [
      "/media/data/inno_courses/DLS/.venv/lib/python3.10/site-packages/tqdm/auto.py:21: TqdmWarning: IProgress not found. Please update jupyter and ipywidgets. See https://ipywidgets.readthedocs.io/en/stable/user_install.html\n",
      "  from .autonotebook import tqdm as notebook_tqdm\n"
     ]
    }
   ],
   "source": [
    "import numpy as np\n",
    "import pandas as pd\n",
    "from sentence_transformers import SentenceTransformer\n",
    "from pathlib import Path\n",
    "import faiss"
   ]
  },
  {
   "cell_type": "code",
   "execution_count": null,
   "id": "a4db12b7",
   "metadata": {},
   "outputs": [],
   "source": [
    "chunk_files = sorted(Path('.').glob('../dataset/preproc_data*.parquet'))\n",
    "dfs = [pd.read_parquet(f) for f in chunk_files]\n",
    "df = pd.concat(dfs, ignore_index=True)"
   ]
  },
  {
   "cell_type": "code",
   "execution_count": 3,
   "id": "a42e37a6",
   "metadata": {},
   "outputs": [],
   "source": [
    "texts = df['lemmatized_text'].tolist() "
   ]
  },
  {
   "cell_type": "code",
   "execution_count": null,
   "id": "60842be3",
   "metadata": {},
   "outputs": [],
   "source": [
    "model = SentenceTransformer('cointegrated/rubert-tiny2')\n",
    "\n",
    "embeddings = model.encode(texts, show_progress_bar=True, batch_size=64) # create embeddings\n",
    "embeddings = np.array(embeddings)\n",
    "embeddings = embeddings / np.linalg.norm(embeddings, axis=1, keepdims=True) # normalize it\n"
   ]
  },
  {
   "cell_type": "code",
   "execution_count": 13,
   "id": "6aff7c60",
   "metadata": {},
   "outputs": [],
   "source": [
    "index = faiss.IndexFlatIP(embeddings.shape[1])  # create index\n",
    "index.add(embeddings)  # add embeddings to index\n",
    "faiss.write_index(index,\"embeddings.index\")  # save index to file"
   ]
  },
  {
   "cell_type": "code",
   "execution_count": 14,
   "id": "ca65a47b",
   "metadata": {},
   "outputs": [],
   "source": [
    "emb = faiss.read_index(\"embeddings.index\")  # read index from file"
   ]
  },
  {
   "cell_type": "code",
   "execution_count": 15,
   "id": "f6e39a32",
   "metadata": {},
   "outputs": [
    {
     "data": {
      "text/plain": [
       "<faiss.swigfaiss_avx2.IndexFlatIP; proxy of <Swig Object of type 'faiss::IndexFlatIP *' at 0x000001E7DE4738D0> >"
      ]
     },
     "execution_count": 15,
     "metadata": {},
     "output_type": "execute_result"
    }
   ],
   "source": [
    "emb"
   ]
  }
 ],
 "metadata": {
  "kernelspec": {
   "display_name": ".venv",
   "language": "python",
   "name": "python3"
  },
  "language_info": {
   "codemirror_mode": {
    "name": "ipython",
    "version": 3
   },
   "file_extension": ".py",
   "mimetype": "text/x-python",
   "name": "python",
   "nbconvert_exporter": "python",
   "pygments_lexer": "ipython3",
   "version": "3.10.12"
  }
 },
 "nbformat": 4,
 "nbformat_minor": 5
}
