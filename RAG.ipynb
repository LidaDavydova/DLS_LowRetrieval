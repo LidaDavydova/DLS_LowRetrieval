{
 "cells": [
  {
   "cell_type": "code",
   "execution_count": 1,
   "id": "f3d3512d",
   "metadata": {},
   "outputs": [
    {
     "name": "stderr",
     "output_type": "stream",
     "text": [
      "/media/data/inno_courses/DLS/.venv/lib/python3.10/site-packages/tqdm/auto.py:21: TqdmWarning: IProgress not found. Please update jupyter and ipywidgets. See https://ipywidgets.readthedocs.io/en/stable/user_install.html\n",
      "  from .autonotebook import tqdm as notebook_tqdm\n"
     ]
    }
   ],
   "source": [
    "import faiss\n",
    "import numpy as np\n",
    "import pandas as pd\n",
    "from sentence_transformers import SentenceTransformer\n",
    "from pathlib import Path\n",
    "from collections import defaultdict"
   ]
  },
  {
   "cell_type": "code",
   "execution_count": 2,
   "id": "a4937f83",
   "metadata": {},
   "outputs": [],
   "source": [
    "model = SentenceTransformer('cointegrated/rubert-tiny2')"
   ]
  },
  {
   "cell_type": "code",
   "execution_count": 3,
   "id": "45901bc2",
   "metadata": {},
   "outputs": [],
   "source": [
    "index = faiss.read_index(\"embeddings/embeddings.index\")  # read index from file"
   ]
  },
  {
   "cell_type": "code",
   "execution_count": 4,
   "id": "401dd17a",
   "metadata": {},
   "outputs": [],
   "source": [
    "embeddings = np.load(\"embeddings/embeddings.npy\", allow_pickle=True)"
   ]
  },
  {
   "cell_type": "code",
   "execution_count": 5,
   "id": "a343865d",
   "metadata": {},
   "outputs": [
    {
     "data": {
      "text/plain": [
       "(49727, 312)"
      ]
     },
     "execution_count": 5,
     "metadata": {},
     "output_type": "execute_result"
    }
   ],
   "source": [
    "embeddings.shape"
   ]
  },
  {
   "cell_type": "code",
   "execution_count": 6,
   "id": "5c5aef63",
   "metadata": {},
   "outputs": [],
   "source": [
    "chunk_files = sorted(Path('.').glob('dataset/preproc_data*.parquet'))\n",
    "dfs = [pd.read_parquet(f) for f in chunk_files]\n",
    "df = pd.concat(dfs, ignore_index=True)"
   ]
  },
  {
   "cell_type": "markdown",
   "id": "dc8e765f",
   "metadata": {},
   "source": [
    "# Ranking metrics functions"
   ]
  },
  {
   "cell_type": "code",
   "execution_count": 11,
   "id": "676b32d8",
   "metadata": {},
   "outputs": [],
   "source": [
    "def precision_at_k(relevant, k):\n",
    "    return np.sum(relevant[:k]) / k\n",
    "\n",
    "def recall_at_k(relevant, total_relevant, k):\n",
    "    if total_relevant == 0:\n",
    "        return 0.0\n",
    "    return np.sum(relevant[:k]) / total_relevant\n",
    "\n",
    "\n",
    "def hits_at_k(relevant, k):\n",
    "    return 1.0 if np.sum(relevant[:k]) > 0 else 0.0\n",
    "\n",
    "def mrr(relevant):\n",
    "    for idx, rel in enumerate(relevant, 1):\n",
    "        if rel:\n",
    "            return 1.0 / idx\n",
    "    return 0.0\n",
    "\n",
    "def dcg(relevant, k):\n",
    "    return np.sum(relevant[:k] / np.log2(np.arange(2, k + 2)))\n",
    "\n",
    "def ndcg_at_k(relevant, k):\n",
    "    ideal_relevant = np.sort(relevant[::-1])\n",
    "    idcg = dcg(ideal_relevant, k)\n",
    "    if idcg == 0:\n",
    "        return 0.0\n",
    "    return dcg(relevant, k) / idcg\n",
    "\n",
    "def average_precision_at_k(relevant, k):\n",
    "    hits = 0\n",
    "    sum_precisions = 0.0\n",
    "    for i in range(k):\n",
    "        if relevant[i]:\n",
    "            hits += 1\n",
    "            sum_precisions += hits / (i + 1)\n",
    "    if hits == 0:\n",
    "        return 0.0\n",
    "    return sum_precisions / hits"
   ]
  },
  {
   "cell_type": "code",
   "execution_count": 15,
   "id": "3a639af9",
   "metadata": {},
   "outputs": [],
   "source": [
    "def evaluate_index(index, embeddings, df, k=10, n_eval=100):\n",
    "    precisions = []\n",
    "    recalls = []\n",
    "    hits = []\n",
    "    mrrs = []\n",
    "    ndcgs = []\n",
    "    aps = []\n",
    "\n",
    "    class_counts = df['classifierByIPS'].value_counts().to_dict()\n",
    "\n",
    "    for _ in range(n_eval):\n",
    "        # choose random query from embedding\n",
    "        i = np.random.randint(0, len(embeddings))\n",
    "        query = embeddings[i].reshape(1, -1)\n",
    "        query_class = df.iloc[i]['classifierByIPS']\n",
    "\n",
    "        if not isinstance(query_class, str) or query_class == \"UNKNOWN\":\n",
    "            continue\n",
    "\n",
    "        _, topk = index.search(query, k+1)\n",
    "        topk = topk[0][1:]  # except the same one\n",
    "\n",
    "        topk_classes = df.iloc[topk]['classifierByIPS'].values\n",
    "        relevant = (topk_classes == query_class).astype(int)\n",
    "\n",
    "        precisions.append(precision_at_k(relevant, k))\n",
    "        total_relevant = class_counts.get(query_class, 0) - 1\n",
    "        total_relevant = max(total_relevant, 0)\n",
    "        recalls.append(recall_at_k(relevant, total_relevant, k))\n",
    "        hits.append(hits_at_k(relevant, k))\n",
    "        mrrs.append(mrr(relevant))\n",
    "        ndcgs.append(ndcg_at_k(relevant, k))\n",
    "        aps.append(average_precision_at_k(relevant, k))\n",
    "\n",
    "    print(\"Evaluation results:\")\n",
    "    print(f\"Precision@{k}: {np.mean(precisions):.3f}\")\n",
    "    print(f\"Recall@{k}: {np.mean(recalls):.3f}\")\n",
    "    print(f\"Hits@{k}:     {np.mean(hits):.3f}\")\n",
    "    print(f\"MRR:          {np.mean(mrrs):.3f}\")\n",
    "    print(f\"NDCG@{k}:     {np.mean(ndcgs):.3f}\")\n",
    "    print(f\"MAP@{k}:      {np.mean(aps):.3f}\")"
   ]
  },
  {
   "cell_type": "code",
   "execution_count": null,
   "id": "e014181f",
   "metadata": {},
   "outputs": [
    {
     "name": "stdout",
     "output_type": "stream",
     "text": [
      "Evaluation results:\n",
      "Precision@10: 0.107\n",
      "Recall@10: 0.034\n",
      "Hits@10:     0.259\n",
      "MRR:          0.214\n",
      "NDCG@10:     0.509\n",
      "MAP@10:      0.196\n"
     ]
    },
    {
     "ename": "",
     "evalue": "",
     "output_type": "error",
     "traceback": [
      "\u001b[1;31mThe Kernel crashed while executing code in the current cell or a previous cell. \n",
      "\u001b[1;31mPlease review the code in the cell(s) to identify a possible cause of the failure. \n",
      "\u001b[1;31mClick <a href='https://aka.ms/vscodeJupyterKernelCrash'>here</a> for more info. \n",
      "\u001b[1;31mView Jupyter <a href='command:jupyter.viewOutput'>log</a> for further details."
     ]
    }
   ],
   "source": [
    "evaluate_index(index, embeddings, df, 10, 100)"
   ]
  },
  {
   "cell_type": "code",
   "execution_count": null,
   "id": "46d3faca",
   "metadata": {},
   "outputs": [
    {
     "data": {
      "text/plain": [
       "7.3235719203948975"
      ]
     },
     "execution_count": 11,
     "metadata": {},
     "output_type": "execute_result"
    }
   ],
   "source": [
    "import time\n",
    "\n",
    "def measure_faiss_speed(index, embeddings, n_queries=100):\n",
    "    total_time = 0.0\n",
    "    for _ in range(n_queries):\n",
    "        i = np.random.randint(0, len(embeddings))\n",
    "        query = embeddings[i].reshape(1, -1)\n",
    "        start = time.time()\n",
    "        _ = index.search(query, 10)\n",
    "        total_time += time.time() - start\n",
    "    avg_time_ms = (total_time / n_queries) * 1000\n",
    "    return avg_time_ms\n",
    "measure_faiss_speed(index, embeddings)"
   ]
  },
  {
   "cell_type": "code",
   "execution_count": null,
   "id": "3cb19a4c",
   "metadata": {},
   "outputs": [],
   "source": [
    "# Real query test"
   ]
  },
  {
   "cell_type": "code",
   "execution_count": 13,
   "id": "d1c965f6",
   "metadata": {},
   "outputs": [],
   "source": [
    "df[['classifier_code', 'classifier_name']] = df['classifierByIPS'].str.split('$', n=1, expand=True)\n"
   ]
  },
  {
   "cell_type": "code",
   "execution_count": 15,
   "id": "ddae37d2",
   "metadata": {},
   "outputs": [],
   "source": [
    "df['classifier_level2'] = df['classifier_code'].str.extract(r'^(\\d{3}\\.\\d{3})')"
   ]
  },
  {
   "cell_type": "code",
   "execution_count": 16,
   "id": "f9c98aa2",
   "metadata": {},
   "outputs": [
    {
     "name": "stdout",
     "output_type": "stream",
     "text": [
      "classifier_level2\n",
      "010.140    17889\n",
      "010.070     5480\n",
      "210.010     2896\n",
      "210.020     2102\n",
      "020.010     1997\n",
      "           ...  \n",
      "140.030        1\n",
      "100.030        1\n",
      "090.020        1\n",
      "070.020        1\n",
      "050.050        1\n",
      "Name: count, Length: 158, dtype: int64\n"
     ]
    }
   ],
   "source": [
    "print(df['classifier_level2'].value_counts())"
   ]
  },
  {
   "cell_type": "code",
   "execution_count": 21,
   "id": "8c7b89c2",
   "metadata": {},
   "outputs": [
    {
     "data": {
      "text/plain": [
       "Index(['pravogovruNd', 'issuedByIPS', 'docdateIPS', 'docNumberIPS',\n",
       "       'doc_typeIPS', 'headingIPS', 'doc_author_normal_formIPS', 'signedIPS',\n",
       "       'statusIPS', 'actual_datetimeIPS', 'actual_datetime_humanIPS',\n",
       "       'is_widely_used', 'textIPS', 'classifierByIPS', 'keywordsByIPS',\n",
       "       'text_clean', 'tokens', 'lemmatized_text', 'classifier_code',\n",
       "       'classifier_name', 'classifier_level2'],\n",
       "      dtype='object')"
      ]
     },
     "execution_count": 21,
     "metadata": {},
     "output_type": "execute_result"
    }
   ],
   "source": [
    "df.columns"
   ]
  },
  {
   "cell_type": "code",
   "execution_count": null,
   "id": "b42595e9",
   "metadata": {},
   "outputs": [
    {
     "name": "stdout",
     "output_type": "stream",
     "text": [
      "Топ-5 результатов с учетом классов:\n",
      "1. Схожесть: 0.474 | Класс: 010.070\n",
      "Текст:  \n",
      " ПРАВИТЕЛЬСТВО РСФСР \n",
      " РАСПОРЯЖЕНИЕ \n",
      " от 28 декабря 1991 г. N 239-р\n",
      " г. Москва \n",
      "1. Министерству экономики и финансов РСФСР отпустить в 1992-1993 годах Внешторгбанку РСФСР для продажи на экспорт 1,3 тонны золота в счет сверхплановой добычи производственным объединением \"Лензолото\" в 1991-1992 годах.\n",
      "2. Внешторгбанку РСФСР перечислить средства, вырученные от реализации 1,3 тонны золота, в распоряжение администрации Иркутской области для закупки продовольствия, товаров первой необходимости и технологий по переработке сельскохозяйственной продукции.\n",
      "3. Администрации Иркутской области возместить Внешторгбанку РСФСР стоимость проданного золота в советских рублях по расчетным ценам, действующим при сдаче золота в Государственный фонд драгоценных металлов и драгоценных камней РСФСР. \n",
      "Первый заместитель Председателя\n",
      "Правительства Российской Федерации Г. Бурбулис \n",
      " \n",
      "2. Схожесть: 0.472 | Класс: 030.050\n",
      "Текст:  \n",
      " ПРАВИТЕЛЬСТВО РСФСР \n",
      " РАСПОРЯЖЕНИЕ \n",
      " от 18 декабря 1991 г. N 160-р\n",
      " г. Москва \n",
      "В целях удовлетворения потребностей народного хозяйства РСФСР и государств Содружества Независимых Государств в соответствии с Соглашением от 8 декабря 1991 г. в денежных билетах, разменной монете и ценных бумагах:\n",
      "1. Разрешить Гознаку Министерства экономики и финансов РСФСР использовать в 1992 году предоставляемый Германией кредит в размере 26,7 млн. марок ФРГ на закупку чеканочных прессов и оборудования для модернизации бумагоделательных машин.\n",
      "Выделить в 1992 году из Республиканского валютного резерва РСФСР Гознаку Министерства экономики и финансов РСФСР 4 млн. марок ФРГ для обеспечения авансового платежа по привлекаемому кредиту.\n",
      "2. В дополнение к распоряжению Совета Министров РСФСР от 8 июля 1991 г. N 730-р предусмотреть для Гознака Министерства экономики и финансов РСФСР закупку в 1994 году в счет инвестиционной части итальянского кредита оборудования по производству банкнот и других ценных бумаг на общую сумму 18,8 млн. инвалютных рублей по официальному курсу.\n",
      "3. Министерству экономики и финансов РСФСР предусматривать начиная с 1992 года выделение Гознаку из Республиканского валютного резерва РСФСР валютных средств на погашение основного долга и оплату процентов по кредитам, а также средств в советских рублях в размерах, необходимых для обеспечения расчетов по кредитам, указанным в пунктах 1, 2 настоящего распоряжения. \n",
      "Заместитель Председателя\n",
      "Правительства РСФСР Е. Гайдар \n",
      " \n",
      "3. Схожесть: 0.467 | Класс: 030.030\n",
      "Текст:  ПРАВИТЕЛЬСТВО РОССИЙСКОЙ ФЕДЕРАЦИИ \n",
      " РАСПОРЯЖЕНИЕ \n",
      " от 10 июня 1997 г. N 814-р \n",
      " г. Москва \n",
      " 1. Признать целесообразным привлечение инвестиционных кредитов банков США в размере до 76 млн. долларов США для финансирования строительства закрытым акционерным обществом \"Бонум-1\" (далее именуется - ЗАО \"Бонум-1\") спутника непосредственного телевизионного вещания Хьюджес Спейс энд Коммьюникэйшнз Интернэшнл, Инк. \n",
      " Минфину России и Внешэкономбанку подписать с заинтересованными организациями США документы, необходимые для привлечения указанных кредитов, имея в виду, что погашение основного долга, уплата процентов и комиссий по кредитам осуществляются за счет средств ЗАО \"Бонум-1\" на условиях, определенных соответствующими кредитными соглашениями. \n",
      " 2. Минфину России и Внешэкономбанку заключить с ЗАО \"Бонум-1\" и коммерческим банком \"Мост-банк\" соглашения о гарантиях полного возврата кредитов, указанных в пункте 1 настоящего распоряжения, и средств, связанных с их привлечением и использованием. \n",
      " 3. МВЭСу России обеспечить оперативный контроль за ценами, коммерческими и валютно-финансовыми условиями контрактов, заключаемых в счет кредитов, привлекаемых в соответствии с настоящим распоряжением. \n",
      " 4. Минэкономики России и Минфину России осуществлять ежеквартально контроль эффективности использования ЗАО \"Бонум-1\" кредитов, указанных в пункте 1 настоящего распоряжения. \n",
      " Председатель Правительства \n",
      " Российской Федерации В.Черномырдин \n",
      " \n",
      "4. Схожесть: 0.466 | Класс: 080.050\n",
      "Текст:  \n",
      " ПРАВИТЕЛЬСТВО РОССИЙСКОЙ ФЕДЕРАЦИИ \n",
      " РАСПОРЯЖЕНИЕ \n",
      " от 7 апреля 1995 г. N 463-р\n",
      " г. Москва \n",
      "1. В целях сохранения материально-технической базы МГУ им. М. В. Ломоносова, отнесенного к особо ценным объектам культурного наследия народов Российской Федерации, признать целесообразным привлечение кредита Великобритании на сумму до 9 млн. долларов США для финансирования закупок оборудования и услуг для замены лифтов в зданиях МГУ им. М. В. Ломоносова.\n",
      "2. Минфину России и Внешэкономбанку подписать с Британской Стороной документы, необходимые для привлечения указанного кредита.\n",
      "3. Установить, что авансовые платежи на сумму до 1,6 млн.долларов США, погашение основного долга, оплата процентов и комиссий по привлекаемому кредиту осуществляются за счет средств федерального бюджета.\n",
      "4. МВЭСу России обеспечить оперативный контроль за заключаемыми контрактами в счет указанного в пункте 1 настоящего распоряжения кредита при предъявлении их к финансированию во Внешэкономбанк. \n",
      "Председатель Правительства\n",
      "Российской Федерации В. Черномырдин \n",
      " \n",
      "5. Схожесть: 0.446 | Класс: 020.010\n",
      "Текст:  \n",
      " ПРАВИТЕЛЬСТВО РОССИЙСКОЙ ФЕДЕРАЦИИ \n",
      " РАСПОРЯЖЕНИЕ \n",
      " от 28 августа 1997 г. N 1232-р\n",
      " г. Москва \n",
      "1. Признать целесообразным привлечение инвестиционного кредита Франции в размере до 54 млн. французских франков (10 млн. долларов США) для финансирования реконструкции инженерных систем зданий Российской государственной библиотеки.\n",
      "Минфину России и Внешэкономбанку подписать с Французской Стороной документы, необходимые для привлечения указанного кредита.\n",
      "2. Установить, что авансовые платежи, погашение основного долга, оплата процентов и комиссий по привлекаемому кредиту, указанному в пункте 1 настоящего распоряжения, осуществляются за счет средств федерального бюджета.\n",
      "3. МВЭСу России обеспечить оперативный контроль за коммерческими, валютно-финансовыми условиями и ценами по контрактам, заключаемым в счет кредита, указанного в пункте 1 настоящего распоряжения.\n",
      "4. Российской государственной библиотеке представлять в Минэкономики России, Минфин России и МВЭС России квартальную и годовую информацию об эффективности использования кредита, указанного в пункте 1 настоящего распоряжения. \n",
      "Председатель Правительства\n",
      "Российской Федерации В.Черномырдин \n",
      " \n"
     ]
    }
   ],
   "source": [
    "query = \"украли кошелек\"\n",
    "query_vec = model.encode([query]) # encode\n",
    "query_vec = query_vec / np.linalg.norm(query_vec) # normalyze\n",
    "\n",
    "faiss.normalize_L2(query_vec)\n",
    "\n",
    "k = 50\n",
    "# find the closest\n",
    "similarities, indices = index.search(query_vec, k)\n",
    "\n",
    "# filter resilt from top 50 to top 5\n",
    "results = []\n",
    "for idx, sim in zip(indices[0], similarities[0]):\n",
    "    if idx == -1:  # if idx not exist, skip\n",
    "        continue\n",
    "    \n",
    "    row = df.iloc[idx]\n",
    "    classifier = str(row['classifier_level2']).strip() if pd.notna(row['classifier_level2']) else \"UNKNOWN\"\n",
    "    \n",
    "    # add if not UNKNOWN\n",
    "    if classifier != \"UNKNOWN\":\n",
    "        results.append({\n",
    "            'index': idx,\n",
    "            'similarity': sim,\n",
    "            'classifier': row['classifier_code'],\n",
    "            'classifier_level2': classifier,\n",
    "            'text': row['textIPS'],\n",
    "            'heading': row['headingIPS']\n",
    "        })\n",
    "\n",
    "# group by classifier_level2 (2 numbers from classifier_code)\n",
    "grouped = defaultdict(list)\n",
    "for res in results:\n",
    "    grouped[res['classifier_level2']].append(res)\n",
    "\n",
    "top_results = []\n",
    "# take from each grouped 1 with max similarity\n",
    "if len(grouped) >= 5:\n",
    "    for cls in sorted(grouped.keys(), key=lambda x: max(y['similarity'] for y in grouped[x]), reverse=True)[:5]:\n",
    "        best_in_cls = max(grouped[cls], key=lambda x: x['similarity'])\n",
    "        top_results.append(best_in_cls)\n",
    "\n",
    "# take from each grouped 2 with max similarity\n",
    "else:\n",
    "    candidates = []\n",
    "    for cls, items in grouped.items():\n",
    "        items_sorted = sorted(items, key=lambda x: -x['similarity'])\n",
    "        candidates.extend(items_sorted[:2])\n",
    "    # return only top 5\n",
    "    top_results = sorted(candidates, key=lambda x: -x['similarity'])[:5]\n",
    "\n",
    "print(\"Топ-5 результатов с учетом классов:\")\n",
    "for i, res in enumerate(top_results, 1):\n",
    "    print(f\"{i}. Схожесть: {res['similarity']:.3f} | Класс: {res['classifier_level2']}\")\n",
    "    print(f\"Текст: {res['text']}\")"
   ]
  },
  {
   "cell_type": "code",
   "execution_count": null,
   "id": "a359965e",
   "metadata": {},
   "outputs": [],
   "source": []
  },
  {
   "cell_type": "code",
   "execution_count": null,
   "id": "76e69308",
   "metadata": {},
   "outputs": [],
   "source": []
  }
 ],
 "metadata": {
  "kernelspec": {
   "display_name": ".venv",
   "language": "python",
   "name": "python3"
  },
  "language_info": {
   "codemirror_mode": {
    "name": "ipython",
    "version": 3
   },
   "file_extension": ".py",
   "mimetype": "text/x-python",
   "name": "python",
   "nbconvert_exporter": "python",
   "pygments_lexer": "ipython3",
   "version": "3.10.12"
  }
 },
 "nbformat": 4,
 "nbformat_minor": 5
}
