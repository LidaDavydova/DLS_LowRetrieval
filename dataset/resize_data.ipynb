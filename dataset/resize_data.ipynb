{
 "cells": [
  {
   "cell_type": "code",
   "execution_count": 5,
   "id": "8473895c",
   "metadata": {},
   "outputs": [],
   "source": [
    "import pandas as pd\n",
    "import pyarrow\n",
    "from sklearn.model_selection import train_test_split\n",
    "from pathlib import Path\n",
    "import gc"
   ]
  },
  {
   "cell_type": "code",
   "execution_count": 7,
   "id": "312a9565",
   "metadata": {},
   "outputs": [
    {
     "name": "stdout",
     "output_type": "stream",
     "text": [
      "Processing chunk ruslawod30000.parquet ...\n",
      "classifier_code\n",
      "010.140.020.010.000    5575\n",
      "010.140.030.010.000    4058\n",
      "210.020.010.010.000     874\n",
      "010.140.040.045.040     528\n",
      "210.020.010.020.000     458\n",
      "                       ... \n",
      "030.150.150.000.000       1\n",
      "010.090.050.090.084       1\n",
      "210.010.010.200.154       1\n",
      "020.010.040.100.102       1\n",
      "010.090.050.010.195       1\n",
      "Name: count, Length: 1641, dtype: int64\n",
      "classifier_level2\n",
      "010.140    10832\n",
      "010.070     3231\n",
      "210.010     1668\n",
      "210.020     1346\n",
      "020.010     1233\n",
      "           ...  \n",
      "040.060        1\n",
      "200.060        1\n",
      "200.190        1\n",
      "050.020        1\n",
      "100.140        1\n",
      "Name: count, Length: 139, dtype: int64\n",
      "Processing chunk ruslawod60000.parquet ...\n",
      "classifier_code\n",
      "010.140.020.010.000    5660\n",
      "010.140.030.010.000    4062\n",
      "210.020.010.010.000     815\n",
      "010.140.040.045.040     484\n",
      "210.020.010.020.000     451\n",
      "                       ... \n",
      "020.010.040.060.050       1\n",
      "210.010.000.000.000       1\n",
      "020.010.040.100.055       1\n",
      "210.010.010.200.040       1\n",
      "160.030.050.000.000       1\n",
      "Name: count, Length: 1649, dtype: int64\n",
      "classifier_level2\n",
      "010.140    10920\n",
      "010.070     3268\n",
      "210.010     1754\n",
      "210.020     1281\n",
      "020.010     1170\n",
      "           ...  \n",
      "100.060        1\n",
      "070.080        1\n",
      "200.080        1\n",
      "070.000        1\n",
      "100.020        1\n",
      "Name: count, Length: 142, dtype: int64\n",
      "Processing chunk ruslawod90000.parquet ...\n",
      "classifier_code\n",
      "010.140.020.010.000    5557\n",
      "010.140.030.010.000    4028\n",
      "210.020.010.010.000     755\n",
      "010.140.040.045.040     508\n",
      "210.020.010.020.000     484\n",
      "                       ... \n",
      "010.090.050.010.195       1\n",
      "010.090.050.090.021       1\n",
      "070.060.090.040.000       1\n",
      "010.090.050.090.053       1\n",
      "010.070.020.020.000       1\n",
      "Name: count, Length: 1657, dtype: int64\n",
      "classifier_level2\n",
      "010.140    10759\n",
      "010.070     3260\n",
      "210.010     1787\n",
      "210.020     1258\n",
      "020.010     1182\n",
      "           ...  \n",
      "180.080        1\n",
      "190.010        1\n",
      "150.130        1\n",
      "070.090        1\n",
      "090.020        1\n",
      "Name: count, Length: 145, dtype: int64\n",
      "Processing chunk ruslawod120000.parquet ...\n",
      "classifier_code\n",
      "010.140.020.010.000    5533\n",
      "010.140.030.010.000    4055\n",
      "210.020.010.010.000     855\n",
      "210.020.010.020.000     503\n",
      "010.140.040.045.040     481\n",
      "                       ... \n",
      "080.120.010.020.000       1\n",
      "130.030.070.060.000       1\n",
      "030.120.160.080.000       1\n",
      "060.020.110.060.000       1\n",
      "020.010.030.100.001       1\n",
      "Name: count, Length: 1585, dtype: int64\n",
      "classifier_level2\n",
      "010.140    10753\n",
      "010.070     3313\n",
      "210.010     1738\n",
      "210.020     1368\n",
      "020.010     1194\n",
      "           ...  \n",
      "010.130        1\n",
      "200.050        1\n",
      "040.010        1\n",
      "160.060        1\n",
      "030.080        1\n",
      "Name: count, Length: 141, dtype: int64\n",
      "Processing chunk ruslawod150000.parquet ...\n",
      "classifier_code\n",
      "010.140.020.010.000    5596\n",
      "010.140.030.010.000    4076\n",
      "210.020.010.010.000     782\n",
      "210.020.010.020.000     514\n",
      "010.140.040.045.040     441\n",
      "                       ... \n",
      "200.010.020.020.210       1\n",
      "020.010.040.060.015       1\n",
      "090.040.090.000.000       1\n",
      "020.010.030.100.247       1\n",
      "030.010.000.000.000       1\n",
      "Name: count, Length: 1643, dtype: int64\n",
      "classifier_level2\n",
      "010.140    10777\n",
      "010.070     3218\n",
      "210.010     1732\n",
      "210.020     1303\n",
      "020.010     1213\n",
      "           ...  \n",
      "110.060        1\n",
      "020.000        1\n",
      "030.110        1\n",
      "080.140        1\n",
      "190.010        1\n",
      "Name: count, Length: 145, dtype: int64\n",
      "Processing chunk ruslawod180000.parquet ...\n",
      "classifier_code\n",
      "010.140.020.010.000    5494\n",
      "010.140.030.010.000    3935\n",
      "210.020.010.010.000     771\n",
      "210.020.010.020.000     503\n",
      "010.140.040.045.040     466\n",
      "                       ... \n",
      "210.010.010.200.135       1\n",
      "200.070.020.020.160       1\n",
      "020.010.030.020.680       1\n",
      "070.080.040.000.000       1\n",
      "060.020.180.200.000       1\n",
      "Name: count, Length: 1665, dtype: int64\n",
      "classifier_level2\n",
      "010.140    10602\n",
      "010.070     3238\n",
      "210.010     1765\n",
      "210.020     1284\n",
      "200.010     1183\n",
      "           ...  \n",
      "100.070        1\n",
      "040.040        1\n",
      "200.150        1\n",
      "200.050        1\n",
      "030.000        1\n",
      "Name: count, Length: 147, dtype: int64\n",
      "Processing chunk ruslawod210000.parquet ...\n",
      "classifier_code\n",
      "010.140.020.010.000    5614\n",
      "010.140.030.010.000    4074\n",
      "210.020.010.010.000     748\n",
      "210.020.010.020.000     493\n",
      "010.140.040.045.040     463\n",
      "                       ... \n",
      "020.010.040.100.077       1\n",
      "020.020.010.040.000       1\n",
      "090.060.030.040.000       1\n",
      "210.010.010.120.160       1\n",
      "200.070.020.020.405       1\n",
      "Name: count, Length: 1644, dtype: int64\n",
      "classifier_level2\n",
      "010.140    10802\n",
      "010.070     3293\n",
      "210.010     1734\n",
      "210.020     1256\n",
      "020.010     1184\n",
      "           ...  \n",
      "030.010        1\n",
      "200.060        1\n",
      "180.070        1\n",
      "030.130        1\n",
      "100.070        1\n",
      "Name: count, Length: 145, dtype: int64\n",
      "Processing chunk ruslawod240000.parquet ...\n",
      "classifier_code\n",
      "010.140.020.010.000    5498\n",
      "010.140.030.010.000    4022\n",
      "210.020.010.010.000     779\n",
      "210.020.010.020.000     511\n",
      "010.140.040.045.040     506\n",
      "                       ... \n",
      "020.010.040.020.110       1\n",
      "050.050.000.000.000       1\n",
      "080.100.020.100.000       1\n",
      "010.090.050.090.097       1\n",
      "160.030.060.000.000       1\n",
      "Name: count, Length: 1671, dtype: int64\n",
      "classifier_level2\n",
      "010.140    10704\n",
      "010.070     3241\n",
      "210.010     1798\n",
      "210.020     1312\n",
      "020.010     1187\n",
      "           ...  \n",
      "050.060        1\n",
      "090.020        1\n",
      "150.000        1\n",
      "100.070        1\n",
      "050.050        1\n",
      "Name: count, Length: 145, dtype: int64\n",
      "Processing chunk ruslawod270000.parquet ...\n",
      "classifier_code\n",
      "010.140.020.010.000    5658\n",
      "010.140.030.010.000    4085\n",
      "210.020.010.010.000     787\n",
      "010.140.040.045.040     456\n",
      "210.020.010.020.000     441\n",
      "                       ... \n",
      "130.010.030.000.000       1\n",
      "010.090.040.900.038       1\n",
      "020.020.010.040.000       1\n",
      "020.030.090.020.000       1\n",
      "200.010.020.050.300       1\n",
      "Name: count, Length: 1623, dtype: int64\n",
      "classifier_level2\n",
      "010.140    10883\n",
      "010.070     3246\n",
      "210.010     1742\n",
      "210.020     1244\n",
      "020.010     1152\n",
      "           ...  \n",
      "200.060        1\n",
      "170.020        1\n",
      "100.020        1\n",
      "120.000        1\n",
      "110.030        1\n",
      "Name: count, Length: 148, dtype: int64\n"
     ]
    }
   ],
   "source": [
    "for n in range(30000, 270001, 30000): # numbers in files\n",
    "    print(f'Processing chunk ruslawod{n}.parquet ...')\n",
    "    \n",
    "    # read each dataset chunk\n",
    "    df = pd.read_parquet(\n",
    "            f'ruslawod{n}.parquet', # change name by hand\n",
    "            engine=\"pyarrow\"\n",
    "        )\n",
    "    # separate classifier_code and classifier_name\n",
    "    df[['classifier_code', 'classifier_name']] = df['classifierByIPS'].str.split('$', n=1, expand=True)\n",
    "    print(df['classifier_code'].value_counts())\n",
    "\n",
    "    # since classifier_code variate too much, we will classify by first 2 numbers of classifier_code\n",
    "    df['classifier_level2'] = df['classifier_code'].str.extract(r'^(\\d{3}\\.\\d{3})')\n",
    "\n",
    "    # Check distribution\n",
    "    print(df['classifier_level2'].value_counts())\n",
    "\n",
    "    # keep dataset with index and classifier_level2 for each chunk\n",
    "    classifier_code = df[['classifier_level2']]\n",
    "    classifier_code.to_parquet(f'classifier_code_{n}.parquet')\n",
    "\n",
    "\n",
    "    del df\n",
    "    del classifier_code\n",
    "    gc.collect()"
   ]
  },
  {
   "cell_type": "code",
   "execution_count": 8,
   "id": "24d90cce",
   "metadata": {},
   "outputs": [],
   "source": [
    "# read each dataset chunk\n",
    "df = pd.read_parquet(\n",
    "        'ruslawod281233.parquet', # change name by hand\n",
    "        engine=\"pyarrow\"\n",
    "    )"
   ]
  },
  {
   "cell_type": "code",
   "execution_count": 9,
   "id": "73cb0640",
   "metadata": {},
   "outputs": [],
   "source": [
    "# separate classifier_code and classifier_name\n",
    "df[['classifier_code', 'classifier_name']] = df['classifierByIPS'].str.split('$', n=1, expand=True)"
   ]
  },
  {
   "cell_type": "code",
   "execution_count": 10,
   "id": "d9158530",
   "metadata": {},
   "outputs": [
    {
     "data": {
      "text/plain": [
       "classifier_code\n",
       "010.140.020.010.000    2124\n",
       "010.140.030.010.000    1515\n",
       "210.020.010.010.000     309\n",
       "210.020.010.020.000     185\n",
       "010.140.040.045.040     158\n",
       "                       ... \n",
       "060.020.180.060.000       1\n",
       "010.090.040.900.113       1\n",
       "020.010.040.100.139       1\n",
       "090.010.130.020.000       1\n",
       "010.090.040.020.260       1\n",
       "Name: count, Length: 1061, dtype: int64"
      ]
     },
     "execution_count": 10,
     "metadata": {},
     "output_type": "execute_result"
    }
   ],
   "source": [
    "df['classifier_code'].value_counts()"
   ]
  },
  {
   "cell_type": "code",
   "execution_count": 11,
   "id": "9e49772c",
   "metadata": {},
   "outputs": [
    {
     "data": {
      "text/plain": [
       "classifier_level2\n",
       "010.140    4031\n",
       "010.070    1199\n",
       "210.010     658\n",
       "210.020     499\n",
       "020.010     420\n",
       "           ... \n",
       "160.030       1\n",
       "010.130       1\n",
       "090.080       1\n",
       "150.070       1\n",
       "150.010       1\n",
       "Name: count, Length: 107, dtype: int64"
      ]
     },
     "execution_count": 11,
     "metadata": {},
     "output_type": "execute_result"
    }
   ],
   "source": [
    "# since classifier_code variate too much, we will classify by first 2 numbers of classifier_code\n",
    "df['classifier_level2'] = df['classifier_code'].str.extract(r'^(\\d{3}\\.\\d{3})')\n",
    "\n",
    "# Check distribution\n",
    "df['classifier_level2'].value_counts()\n"
   ]
  },
  {
   "cell_type": "code",
   "execution_count": 12,
   "id": "bdc7c902",
   "metadata": {},
   "outputs": [],
   "source": [
    "# keep dataset with index and classifier_level2 for each chunk\n",
    "classifier_code = df[['classifier_level2']]\n",
    "classifier_code.to_parquet('classifier_code_281233.parquet')"
   ]
  },
  {
   "cell_type": "code",
   "execution_count": 20,
   "id": "05502820",
   "metadata": {},
   "outputs": [],
   "source": [
    "''' Concat classifier_code chunks in one dataset '''\n",
    "DATA_DIR = Path(\".\")     \n",
    "PATTERN = \"classifier_code_*.parquet\" \n",
    "\n",
    "dfs = []\n",
    "for f in DATA_DIR.glob(PATTERN):\n",
    "    df = pd.read_parquet(\n",
    "        f,\n",
    "        engine=\"pyarrow\"\n",
    "    )\n",
    "    dfs.append(df)\n",
    "df_full = pd.concat(dfs, ignore_index=True)"
   ]
  },
  {
   "cell_type": "code",
   "execution_count": 21,
   "id": "08c2b1fc",
   "metadata": {},
   "outputs": [
    {
     "name": "stdout",
     "output_type": "stream",
     "text": [
      "<class 'pandas.core.frame.DataFrame'>\n",
      "RangeIndex: 281233 entries, 0 to 281232\n",
      "Data columns (total 1 columns):\n",
      " #   Column             Non-Null Count   Dtype \n",
      "---  ------             --------------   ----- \n",
      " 0   classifier_level2  227290 non-null  object\n",
      "dtypes: object(1)\n",
      "memory usage: 2.1+ MB\n"
     ]
    }
   ],
   "source": [
    "df_full.info()"
   ]
  },
  {
   "cell_type": "code",
   "execution_count": 22,
   "id": "a8510564",
   "metadata": {},
   "outputs": [
    {
     "data": {
      "text/plain": [
       "classifier_level2\n",
       "010.140    101063\n",
       "010.070     30507\n",
       "210.010     16376\n",
       "210.020     12151\n",
       "020.010     11105\n",
       "            ...  \n",
       "040.020         1\n",
       "060.000         1\n",
       "090.110         1\n",
       "110.080         1\n",
       "070.090         1\n",
       "Name: count, Length: 199, dtype: int64"
      ]
     },
     "execution_count": 22,
     "metadata": {},
     "output_type": "execute_result"
    }
   ],
   "source": [
    "df_full.classifier_level2.value_counts()\n",
    "# overall 199 classes"
   ]
  },
  {
   "cell_type": "code",
   "execution_count": 23,
   "id": "6a432107",
   "metadata": {},
   "outputs": [
    {
     "data": {
      "text/plain": [
       "(281233, 1)"
      ]
     },
     "execution_count": 23,
     "metadata": {},
     "output_type": "execute_result"
    }
   ],
   "source": [
    "df_full.shape"
   ]
  },
  {
   "cell_type": "code",
   "execution_count": 24,
   "id": "3837da5b",
   "metadata": {},
   "outputs": [],
   "source": [
    "# drop empty classifier_level2\n",
    "df_full = df_full.dropna(subset=['classifier_level2'])"
   ]
  },
  {
   "cell_type": "code",
   "execution_count": 25,
   "id": "1b1672dc",
   "metadata": {},
   "outputs": [
    {
     "data": {
      "text/plain": [
       "(227290, 1)"
      ]
     },
     "execution_count": 25,
     "metadata": {},
     "output_type": "execute_result"
    }
   ],
   "source": [
    "df_full.shape"
   ]
  },
  {
   "cell_type": "code",
   "execution_count": 26,
   "id": "ddac0077",
   "metadata": {},
   "outputs": [],
   "source": [
    "code_counts = df_full['classifier_level2'].value_counts()\n",
    "valid_codes = code_counts[code_counts >= 2].index # if code frequency = 1, it considered as outlier\n",
    "df_filtered = df_full[df_full['classifier_level2'].isin(valid_codes)]\n",
    "\n",
    "# make only 50k for easy and fast work with dataset\n",
    "# we want the same distribution, so we use stratify by classifier_level2\n",
    "df_sampled, _ = train_test_split(\n",
    "    df_filtered,\n",
    "    train_size=50000,\n",
    "    stratify=df_filtered['classifier_level2'],\n",
    "    random_state=42\n",
    ")"
   ]
  },
  {
   "cell_type": "code",
   "execution_count": 27,
   "id": "5b5b8d6b",
   "metadata": {},
   "outputs": [
    {
     "name": "stdout",
     "output_type": "stream",
     "text": [
      "Финальный размер выборки: (50000, 1)\n",
      "Распределение классов:\n",
      "classifier_level2\n",
      "010.140    0.44468\n",
      "010.070    0.13424\n",
      "210.010    0.07206\n",
      "210.020    0.05346\n",
      "020.010    0.04886\n",
      "            ...   \n",
      "080.090    0.00002\n",
      "200.000    0.00002\n",
      "160.020    0.00002\n",
      "070.050    0.00002\n",
      "120.070    0.00002\n",
      "Name: proportion, Length: 169, dtype: float64\n"
     ]
    }
   ],
   "source": [
    "print(f\"Финальный размер выборки: {df_sampled.shape}\")\n",
    "print(f\"Распределение классов:\\n{df_sampled['classifier_level2'].value_counts(normalize=True)}\")"
   ]
  },
  {
   "cell_type": "code",
   "execution_count": 30,
   "id": "c033d361",
   "metadata": {},
   "outputs": [
    {
     "data": {
      "text/plain": [
       "np.False_"
      ]
     },
     "execution_count": 30,
     "metadata": {},
     "output_type": "execute_result"
    }
   ],
   "source": [
    "df_sampled.isnull().values.any()"
   ]
  },
  {
   "cell_type": "code",
   "execution_count": 32,
   "id": "8d4f3587",
   "metadata": {},
   "outputs": [],
   "source": [
    "# save 50k indexes with code\n",
    "df_sampled.to_parquet('sample_50k.parquet')"
   ]
  },
  {
   "cell_type": "code",
   "execution_count": null,
   "id": "7b219cdb",
   "metadata": {},
   "outputs": [],
   "source": []
  },
  {
   "cell_type": "code",
   "execution_count": null,
   "id": "ae4bafb3",
   "metadata": {},
   "outputs": [],
   "source": []
  },
  {
   "cell_type": "code",
   "execution_count": null,
   "id": "18842697",
   "metadata": {},
   "outputs": [],
   "source": []
  }
 ],
 "metadata": {
  "kernelspec": {
   "display_name": ".venv",
   "language": "python",
   "name": "python3"
  },
  "language_info": {
   "codemirror_mode": {
    "name": "ipython",
    "version": 3
   },
   "file_extension": ".py",
   "mimetype": "text/x-python",
   "name": "python",
   "nbconvert_exporter": "python",
   "pygments_lexer": "ipython3",
   "version": "3.10.12"
  }
 },
 "nbformat": 4,
 "nbformat_minor": 5
}
