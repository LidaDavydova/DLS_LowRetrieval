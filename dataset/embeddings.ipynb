{
 "cells": [
  {
   "cell_type": "code",
   "execution_count": 2,
   "id": "636a01e7",
   "metadata": {},
   "outputs": [
    {
     "name": "stderr",
     "output_type": "stream",
     "text": [
      "c:\\Users\\Kistanov\\AppData\\Local\\Programs\\Python\\Python312\\Lib\\site-packages\\tqdm\\auto.py:21: TqdmWarning: IProgress not found. Please update jupyter and ipywidgets. See https://ipywidgets.readthedocs.io/en/stable/user_install.html\n",
      "  from .autonotebook import tqdm as notebook_tqdm\n"
     ]
    },
    {
     "name": "stdout",
     "output_type": "stream",
     "text": [
      "WARNING:tensorflow:From c:\\Users\\Kistanov\\AppData\\Local\\Programs\\Python\\Python312\\Lib\\site-packages\\tf_keras\\src\\losses.py:2976: The name tf.losses.sparse_softmax_cross_entropy is deprecated. Please use tf.compat.v1.losses.sparse_softmax_cross_entropy instead.\n",
      "\n"
     ]
    }
   ],
   "source": [
    "import numpy as np\n",
    "import pandas as pd\n",
    "from sentence_transformers import SentenceTransformer\n",
    "from pathlib import Path\n",
    "import faiss"
   ]
  },
  {
   "cell_type": "code",
   "execution_count": 3,
   "id": "a4db12b7",
   "metadata": {},
   "outputs": [],
   "source": [
    "chunk_files = sorted(Path('.').glob('preproc_data*.parquet'))\n",
    "dfs = [pd.read_parquet(f) for f in chunk_files]\n",
    "df = pd.concat(dfs, ignore_index=True)"
   ]
  },
  {
   "cell_type": "code",
   "execution_count": 4,
   "id": "a42e37a6",
   "metadata": {},
   "outputs": [],
   "source": [
    "texts = df['lemmatized_text'].tolist() \n"
   ]
  },
  {
   "cell_type": "code",
   "execution_count": 5,
   "id": "60842be3",
   "metadata": {},
   "outputs": [
    {
     "name": "stderr",
     "output_type": "stream",
     "text": [
      "Batches: 100%|██████████| 777/777 [46:06<00:00,  3.56s/it]  \n"
     ]
    }
   ],
   "source": [
    "model = SentenceTransformer('cointegrated/rubert-tiny2')\n",
    "\n",
    "embeddings = model.encode(texts, show_progress_bar=True, batch_size=64) # create embeddings\n",
    "embeddings = np.array(embeddings)\n",
    "embeddings = embeddings / np.linalg.norm(embeddings, axis=1, keepdims=True) # normalize it\n"
   ]
  },
  {
   "cell_type": "code",
   "execution_count": 6,
   "id": "6aff7c60",
   "metadata": {},
   "outputs": [],
   "source": [
    "import numpy as np\n",
    "\n",
    "index = faiss.IndexFlatIP(embeddings.shape[1])  # create index\n",
    "index.add(embeddings)  # add embeddings to index\n",
    "np.save(\"embeddings.npy\", embeddings)  # save embeddings to file    "
   ]
  }
 ],
 "metadata": {
  "kernelspec": {
   "display_name": "Python 3",
   "language": "python",
   "name": "python3"
  },
  "language_info": {
   "codemirror_mode": {
    "name": "ipython",
    "version": 3
   },
   "file_extension": ".py",
   "mimetype": "text/x-python",
   "name": "python",
   "nbconvert_exporter": "python",
   "pygments_lexer": "ipython3",
   "version": "3.12.6"
  }
 },
 "nbformat": 4,
 "nbformat_minor": 5
}
